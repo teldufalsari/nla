{
 "cells": [
  {
   "cell_type": "code",
   "execution_count": 1,
   "metadata": {},
   "outputs": [],
   "source": [
    "import numpy as np\n",
    "from numba import jit"
   ]
  },
  {
   "cell_type": "code",
   "execution_count": 2,
   "metadata": {},
   "outputs": [],
   "source": [
    "def hcs(n):\n",
    "    '''Calculate Hofstadter-Conway sequence using Numpy'''\n",
    "\n",
    "    if n < 1:\n",
    "        raise ValueError(\"Argument cannot be less than 1\")\n",
    "    if n == 1:\n",
    "        return np.array([1])\n",
    "    a = np.empty(n, dtype=np.int64)\n",
    "    a[0] = 1\n",
    "    a[1] = 1\n",
    "    for i in range(2, n):\n",
    "        a[i] = a[a[i-1] - 1] + a[i - a[i-1]]\n",
    "    return a\n",
    "\n",
    "\n",
    "@jit(nopython=True)\n",
    "def hcs_jit(n):\n",
    "    '''Calculate Hofstadter-Conway sequence using Numpy, JIT-compiled'''\n",
    "\n",
    "    if n < 1:\n",
    "        raise ValueError(\"Argument cannot be less than 1\")\n",
    "    if n == 1:\n",
    "        return np.array([1])\n",
    "    a = np.empty(n, dtype=np.int64)\n",
    "    a[0] = 1\n",
    "    a[1] = 1\n",
    "    for i in range(2, n):\n",
    "        a[i] = a[a[i-1] - 1] + a[i - a[i-1]]\n",
    "    return a"
   ]
  },
  {
   "cell_type": "code",
   "execution_count": 3,
   "metadata": {},
   "outputs": [],
   "source": [
    "def hcs_nonp(n):\n",
    "    '''Calculate Hofstadter-Conway sequence without Numpy'''\n",
    "\n",
    "    if n < 1:\n",
    "        raise ValueError(\"Argument cannot be less than 1\")\n",
    "    if n == 1:\n",
    "        return np.array([1])\n",
    "    a = [1, 1]\n",
    "    for i in range(2, n):\n",
    "        a.append(a[a[i-1] - 1] + a[i - a[i-1]])\n",
    "    return np.array(a)\n",
    "\n",
    "\n",
    "@jit(nopython=True)\n",
    "def hcs_nonp_jit(n):\n",
    "    '''Calculate Hofstadter-Conway sequence without Numpy, JIT-compiled'''\n",
    "\n",
    "    if n < 1:\n",
    "        raise ValueError(\"Argument cannot be less than 1\")\n",
    "    if n == 1:\n",
    "        return np.array([1])\n",
    "    a = [1, 1]\n",
    "    for i in range(2, n):\n",
    "        a.append(a[a[i-1] - 1] + a[i - a[i-1]])\n",
    "    return np.array(a)"
   ]
  },
  {
   "cell_type": "code",
   "execution_count": 4,
   "metadata": {},
   "outputs": [
    {
     "name": "stdout",
     "output_type": "stream",
     "text": [
      "2.3 ms ± 21.4 µs per loop (mean ± std. dev. of 7 runs, 100 loops each)\n"
     ]
    }
   ],
   "source": [
    "%%timeit\n",
    "\n",
    "a = hcs(5000)"
   ]
  },
  {
   "cell_type": "code",
   "execution_count": 5,
   "metadata": {},
   "outputs": [
    {
     "name": "stdout",
     "output_type": "stream",
     "text": [
      "22.9 µs ± 6.72 µs per loop (mean ± std. dev. of 7 runs, 1 loop each)\n"
     ]
    }
   ],
   "source": [
    "%%timeit\n",
    "\n",
    "a = hcs_jit(5000)"
   ]
  },
  {
   "cell_type": "code",
   "execution_count": 6,
   "metadata": {},
   "outputs": [
    {
     "name": "stdout",
     "output_type": "stream",
     "text": [
      "570 µs ± 910 ns per loop (mean ± std. dev. of 7 runs, 1,000 loops each)\n"
     ]
    }
   ],
   "source": [
    "%%timeit\n",
    "\n",
    "a = hcs_nonp(5000)"
   ]
  },
  {
   "cell_type": "markdown",
   "metadata": {},
   "source": [
    "Faster than nymphy version! wth//"
   ]
  },
  {
   "cell_type": "code",
   "execution_count": 7,
   "metadata": {},
   "outputs": [
    {
     "name": "stdout",
     "output_type": "stream",
     "text": [
      "31.7 µs ± 1.08 µs per loop (mean ± std. dev. of 7 runs, 10,000 loops each)\n"
     ]
    }
   ],
   "source": [
    "%%timeit\n",
    "\n",
    "a = hcs_nonp_jit(5000)"
   ]
  },
  {
   "cell_type": "markdown",
   "metadata": {},
   "source": [
    "numpy + numba is still the fastest implementation, but this one was really close.\n",
    "\n",
    "Behold, the answer to the ultimate question of life, the universe, and everything:"
   ]
  },
  {
   "cell_type": "code",
   "execution_count": 10,
   "metadata": {},
   "outputs": [
    {
     "name": "stdout",
     "output_type": "stream",
     "text": [
      "52736107\n"
     ]
    }
   ],
   "source": [
    "N = 100_000_000\n",
    "print(hcs_jit(N)[N - 1])"
   ]
  }
 ],
 "metadata": {
  "kernelspec": {
   "display_name": "Python 3",
   "language": "python",
   "name": "python3"
  },
  "language_info": {
   "codemirror_mode": {
    "name": "ipython",
    "version": 3
   },
   "file_extension": ".py",
   "mimetype": "text/x-python",
   "name": "python",
   "nbconvert_exporter": "python",
   "pygments_lexer": "ipython3",
   "version": "3.11.5"
  },
  "orig_nbformat": 4
 },
 "nbformat": 4,
 "nbformat_minor": 2
}
