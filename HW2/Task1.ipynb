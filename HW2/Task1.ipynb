{
 "cells": [
  {
   "cell_type": "code",
   "execution_count": 9,
   "metadata": {},
   "outputs": [],
   "source": [
    "import numpy as np\n",
    "from numpy.typing import ArrayLike\n",
    "from numpy.linalg import svd, norm\n",
    "from scipy.sparse.linalg import svds\n",
    "from sklearn.utils.extmath import randomized_svd"
   ]
  },
  {
   "cell_type": "code",
   "execution_count": 2,
   "metadata": {},
   "outputs": [],
   "source": [
    "N: int = 2000\n",
    "np.random.seed(3605)\n",
    "a = np.random.normal(0.0, size=(N, N))"
   ]
  },
  {
   "cell_type": "code",
   "execution_count": 3,
   "metadata": {},
   "outputs": [],
   "source": [
    "def svd_approximate(a: ArrayLike, rank: int) -> ArrayLike:\n",
    "    if rank >= min(a.shape):\n",
    "        raise ValueError(\"Input matrix rank is already less than desired\")\n",
    "    u, s, vt = svd(a)\n",
    "    return u[:,:rank] @ np.diag(s[:rank]) @ vt[:rank,:]\n",
    "\n",
    "def svds_approximate(a: ArrayLike, rank: int) -> ArrayLike:\n",
    "    if rank >= min(a.shape):\n",
    "        raise ValueError(\"Input matrix rank is already less than desired\")\n",
    "    u, s, vt = svds(a, k=rank)\n",
    "    return u @ np.diag(s) @ vt\n",
    "\n",
    "def rsvd_approximate(a: ArrayLike, rank: int) -> ArrayLike:\n",
    "    if rank >= min(a.shape):\n",
    "        raise ValueError(\"Input matrix rank is already less than desired\")\n",
    "    u, s, vt = randomized_svd(a, n_components=rank)\n",
    "    return u @ np.diag(s) @ vt"
   ]
  },
  {
   "cell_type": "code",
   "execution_count": 8,
   "metadata": {},
   "outputs": [],
   "source": [
    "a_svd = svd_approximate(a, rank=2)\n",
    "a_svds = svds_approximate(a, rank=2)\n",
    "a_rsvd = rsvd_approximate(a, rank=2)"
   ]
  },
  {
   "cell_type": "code",
   "execution_count": 4,
   "metadata": {},
   "outputs": [
    {
     "name": "stdout",
     "output_type": "stream",
     "text": [
      "34 s ± 2.89 s per loop (mean ± std. dev. of 7 runs, 1 loop each)\n"
     ]
    }
   ],
   "source": [
    "%%timeit\n",
    "\n",
    "tmp = svd_approximate(a, rank=2)"
   ]
  },
  {
   "cell_type": "code",
   "execution_count": 5,
   "metadata": {},
   "outputs": [
    {
     "name": "stdout",
     "output_type": "stream",
     "text": [
      "3 s ± 156 ms per loop (mean ± std. dev. of 7 runs, 1 loop each)\n"
     ]
    }
   ],
   "source": [
    "%%timeit\n",
    "\n",
    "tmp = svds_approximate(a, rank=2)"
   ]
  },
  {
   "cell_type": "code",
   "execution_count": 6,
   "metadata": {},
   "outputs": [
    {
     "name": "stdout",
     "output_type": "stream",
     "text": [
      "870 ms ± 74.7 ms per loop (mean ± std. dev. of 7 runs, 1 loop each)\n"
     ]
    }
   ],
   "source": [
    "%%timeit\n",
    "\n",
    "tmp = rsvd_approximate(a, rank=2)"
   ]
  },
  {
   "cell_type": "code",
   "execution_count": 11,
   "metadata": {},
   "outputs": [
    {
     "name": "stdout",
     "output_type": "stream",
     "text": [
      "Error norms:\n",
      "numpy SVD: 1995.5279868529117\n",
      "scipy SVDS: 1995.5279868529117\n",
      "sklearn RSVD: 1995.7031641028616\n"
     ]
    }
   ],
   "source": [
    "svd_error = norm(a - a_svd)\n",
    "svds_error = norm(a - a_svds)\n",
    "rsvd_error = norm(a - a_rsvd)\n",
    "\n",
    "print(f\"Error norms:\\nnumpy SVD: {svd_error}\\nscipy SVDS: {svds_error}\\nsklearn RSVD: {rsvd_error}\")"
   ]
  }
 ],
 "metadata": {
  "kernelspec": {
   "display_name": "Python 3",
   "language": "python",
   "name": "python3"
  },
  "language_info": {
   "codemirror_mode": {
    "name": "ipython",
    "version": 3
   },
   "file_extension": ".py",
   "mimetype": "text/x-python",
   "name": "python",
   "nbconvert_exporter": "python",
   "pygments_lexer": "ipython3",
   "version": "3.11.5"
  },
  "orig_nbformat": 4
 },
 "nbformat": 4,
 "nbformat_minor": 2
}
