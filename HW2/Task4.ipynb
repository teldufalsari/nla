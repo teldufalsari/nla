{
 "cells": [
  {
   "cell_type": "code",
   "execution_count": 1,
   "metadata": {},
   "outputs": [],
   "source": [
    "import numpy as np\n",
    "import pandas as pd\n",
    "from numpy.typing import NDArray\n",
    "from scipy.sparse.linalg import svds\n",
    "from typing import Tuple"
   ]
  },
  {
   "cell_type": "code",
   "execution_count": 2,
   "metadata": {},
   "outputs": [],
   "source": [
    "def rel_err(a: NDArray, h: NDArray, eta: NDArray) -> float:\n",
    "    denom = np.sqrt(np.sum(np.square(a)))\n",
    "    num = np.sqrt(np.sum(np.square(a - (h @ eta.transpose()))))\n",
    "    return num / denom\n",
    "\n",
    "def get_approximation(a: NDArray) -> Tuple[NDArray, NDArray]:\n",
    "    u, s, vt = svds(a, k=1)\n",
    "    return (u * s, np.array([[v] for v in vt[0]]))"
   ]
  },
  {
   "cell_type": "code",
   "execution_count": 7,
   "metadata": {},
   "outputs": [],
   "source": [
    "def rel_err_m(a: NDArray, b: NDArray) -> float:\n",
    "    denom = np.sqrt(np.sum(np.square(a)))\n",
    "    num = np.sqrt(np.sum(np.square(a - b)))\n",
    "    return num / denom\n"
   ]
  },
  {
   "cell_type": "code",
   "execution_count": 3,
   "metadata": {},
   "outputs": [],
   "source": [
    "a = pd.read_hdf(\"A.hdf\")\n",
    "a = np.array(a)"
   ]
  },
  {
   "cell_type": "code",
   "execution_count": 4,
   "metadata": {},
   "outputs": [],
   "source": [
    "h, eta = get_approximation(a)\n",
    "delta = rel_err(a, h, eta)"
   ]
  },
  {
   "cell_type": "code",
   "execution_count": 5,
   "metadata": {},
   "outputs": [
    {
     "name": "stdout",
     "output_type": "stream",
     "text": [
      "0.7742251888975445\n"
     ]
    }
   ],
   "source": [
    "print(delta)"
   ]
  },
  {
   "cell_type": "code",
   "execution_count": 8,
   "metadata": {},
   "outputs": [
    {
     "name": "stdout",
     "output_type": "stream",
     "text": [
      "9.266624881159362e-16\n"
     ]
    }
   ],
   "source": [
    "u, s, vt = svds(a, k=4)\n",
    "a_approx = u @ np.diag(s) @ vt\n",
    "print(rel_err_m(a, a_approx))"
   ]
  }
 ],
 "metadata": {
  "kernelspec": {
   "display_name": "Python 3",
   "language": "python",
   "name": "python3"
  },
  "language_info": {
   "codemirror_mode": {
    "name": "ipython",
    "version": 3
   },
   "file_extension": ".py",
   "mimetype": "text/x-python",
   "name": "python",
   "nbconvert_exporter": "python",
   "pygments_lexer": "ipython3",
   "version": "3.11.5"
  },
  "orig_nbformat": 4
 },
 "nbformat": 4,
 "nbformat_minor": 2
}
