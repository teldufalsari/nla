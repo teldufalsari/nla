{
 "cells": [
  {
   "cell_type": "code",
   "execution_count": 144,
   "metadata": {},
   "outputs": [],
   "source": [
    "import numpy as np\n",
    "import pandas as pd\n",
    "from functools import reduce"
   ]
  },
  {
   "cell_type": "code",
   "execution_count": 145,
   "metadata": {},
   "outputs": [],
   "source": [
    "def load_data(filename: str) -> dict[str, pd.DataFrame]:\n",
    "    data = {}\n",
    "    with pd.HDFStore(filename) as store:\n",
    "        for k in store.keys():\n",
    "            data[k] = store.get(k)\n",
    "    return data\n",
    "\n",
    "# Very ugly code to convert dataframes to Python objects,\n",
    "# I haven't found a way to do it in a more concise way.\n",
    "# \n",
    "# df.values can only be a numpy array, and since it's typed,\n",
    "# all indices in the '/measurements' dataframe get converted to\n",
    "# floating point numbers\n",
    "def transform_data(data: dict[str, pd.DataFrame]) -> tuple[\n",
    "        dict[int, np.ndarray],\n",
    "        list[tuple[int, int, int, float]],\n",
    "        dict[int, np.ndarray]\n",
    "    ]:\n",
    "    i_list = list(data['/measurements'].get('i').values.flatten())\n",
    "    j_list = list(data['/measurements'].get('j').values.flatten())\n",
    "    k_list = list(data['/measurements'].get('k').values.flatten())\n",
    "    thetas = list(data['/measurements'].get('theta').values.flatten())\n",
    "    measurements = [(i, j, k, theta) for i, j, k, theta in zip(i_list, j_list, k_list, thetas)]\n",
    "    points = {k: data['/r'].loc[[k]].values.flatten() for k in data['/r'].index}\n",
    "    corrections = {k: data['/dr'].loc[[k]].values.flatten() for k in data['/dr'].index}\n",
    "    return (points, measurements, corrections)\n"
   ]
  },
  {
   "cell_type": "code",
   "execution_count": 146,
   "metadata": {},
   "outputs": [
    {
     "name": "stdout",
     "output_type": "stream",
     "text": [
      "----------------------------------------<(dr)\n",
      "            dx       dy\n",
      "point                  \n",
      "1     -0.03927  0.00000\n",
      "2      0.03927 -0.03927\n",
      "3      0.00000  0.03927\n",
      "------------------------------\n",
      "\n",
      "----------------------------------------<(measurements)\n",
      "             i  j  k     theta\n",
      "measurement                   \n",
      "1            1  2  3  0.706858\n",
      "------------------------------\n",
      "\n",
      "----------------------------------------<(r)\n",
      "         x    y\n",
      "point          \n",
      "1     -1.0  0.0\n",
      "2      0.0  1.0\n",
      "3      1.0  0.0\n",
      "------------------------------\n",
      "\n"
     ]
    }
   ],
   "source": [
    "data1 = load_data('localization_data_1.hdf')\n",
    "data2 = load_data('localization_data_2.hdf')\n",
    "print(reduce(lambda acc, s: f'{acc}\\n{s}',\n",
    "             map(lambda x: f\"{'-'*40}<({x[0][1:]})\\n{x[1]}\\n{'-'*30}\\n\",\n",
    "                 data1.items())))"
   ]
  },
  {
   "cell_type": "markdown",
   "metadata": {},
   "source": [
    "So, the equation is\n",
    "$$\n",
    "    \\theta_{ijk} = \\arccos\\frac\n",
    "    {\\left( \\tilde{r}_3 - \\tilde{r}_1 \\right) \\cdot \\left( \\tilde{r}_2 - \\tilde{r}_1 \\right)}\n",
    "    {\\left| \\tilde{r}_3 - \\tilde{r}_1 \\right| \\left| \\tilde{r}_2 - \\tilde{r}_1 \\right|}.\n",
    "$$\n",
    "Let's rewrite it and try to extract $dr$'s out of it:\n",
    "$$ \\cos\\theta_{ijk} = \\frac{\\tilde{P}}{\\tilde{R}}, $$\n",
    "$$\n",
    "    \\cos\\theta_{ijk} - \\frac{P}{R} = \\Delta\\left( \\frac{P}{R} \\right) =\n",
    "    \\frac{\\Delta P}{R} - \\frac{P \\Delta R}{R^2}.\n",
    "$$\n",
    "Numerator:\n",
    "$$\n",
    "    \\Delta P = \\Delta\\left( r_k - r_i \\right) \\cdot \\left( r_j - ri \\right) +\n",
    "    \\left( r_k - r_i \\right) \\cdot \\Delta \\left( r_j - ri \\right) = \n",
    "    \\left( r_j - ri \\right) \\cdot \\left( dr_k - dr_i \\right) + \n",
    "    \\left( r_k - ri \\right) \\cdot \\left( dr_j - dr_i \\right).\n",
    "$$\n",
    "Denominator:\n",
    "$$\n",
    "    \\Delta R = \\Delta \\left| r_k - r_i \\right| \\cdot \\left| r_j - r_i \\right| +\n",
    "    \\left| r_k - r_i \\right| \\cdot \\Delta \\left| r_j - r_i \\right| =\n",
    "    \\rho_{ji} \\Delta \\left| r_k - r_i \\right| +\n",
    "    \\rho_{ki} \\Delta \\left| r_j - r_i \\right| =\n",
    "$$\n",
    "$$\n",
    "    \\frac{\\rho_{ji}}{\\rho_{ki}}\\left[ \n",
    "        \\left( x_k - x_i \\right) \\cdot \\left( dx_k - dx_i \\right) + \n",
    "        \\left( y_k - y_i \\right) \\cdot \\left( dy_k - dy_i \\right)\n",
    "    \\right] + \n",
    "$$\n",
    "$$ \\frac{\\rho_{ki}}{\\rho_{ji}}\\left[ \n",
    "        \\left( x_j - x_i \\right) \\cdot \\left( dx_j - dx_i \\right) + \n",
    "        \\left( y_j - y_i \\right) \\cdot \\left( dy_j - dy_i \\right)\n",
    "    \\right].\n",
    "$$\n",
    "\n",
    "Finally:\n",
    "$$\n",
    "    \\cos\\theta_{ijk} - \\frac{P}{R} = \n",
    "    \\left[ \\frac{P}{R}\\left( \\frac{\\xi_{ji}}{\\rho_{ji}^2} + \\frac{\\xi_{ki}}{\\rho_{ki}^2} \\right) -\n",
    "        \\frac{\\xi_{ki} + \\xi_{ji}}{R} \\right] \\cdot dx_i +\n",
    "    \\left[ \\frac{P}{R}\\left( \\frac{\\eta_{ji}}{\\rho_{ji}^2} + \\frac{\\eta_{ki}}{\\rho_{ki}^2} \\right) -\n",
    "        \\frac{\\eta_{ki} + \\eta_{ji}}{R} \\right] \\cdot dy_i +\n",
    "$$\n",
    "$$\n",
    "    \\left( \\frac{\\xi_{ki}}{R} - \\frac{P\\xi_{ji}}{R\\rho_{ji}^2} \\right) \\cdot dx_j +\n",
    "    \\left( \\frac{\\eta_{ki}}{R} - \\frac{P\\eta_{ji}}{R\\rho_{ji}^2} \\right) \\cdot dy_j +\n",
    "    \\left( \\frac{\\xi_{ji}}{R} - \\frac{P\\xi_{ki}}{R\\rho_{ki}^2} \\right) \\cdot dx_k +\n",
    "    \\left( \\frac{\\eta_{ji}}{R} - \\frac{P\\eta_{ki}}{R\\rho_{ki}^2} \\right) \\cdot dy_k\n",
    "$$\n",
    "where\n",
    "$$\n",
    "    \\rho_{\\alpha\\beta} = \\sqrt{\\left( x_{\\alpha} - x_{\\beta} \\right)^2\n",
    "    + \\left( y_{\\alpha} - y_{\\beta} \\right)^2},\n",
    "$$\n",
    "$$ \\xi_{\\alpha\\beta} = x_{\\alpha} - x_{\\beta}, $$\n",
    "$$ \\eta_{\\alpha\\beta} = y_{\\alpha} - y_{\\beta}, $$\n",
    "$$ P = \\left(r_k - r_i \\right) \\cdot \\left( r_j - r_i \\right), $$\n",
    "$$ R = \\rho_{ki} \\rho_{ji}, $$"
   ]
  },
  {
   "cell_type": "code",
   "execution_count": 147,
   "metadata": {},
   "outputs": [],
   "source": [
    "def compute_weights(r_i: np.ndarray, r_j: np.ndarray, r_k: np.ndarray) -> list[float]:\n",
    "    \"\"\"Outputs coefficients for x_i, y_i, x_j, y_j, x_k, y_k defined in the equation above\"\"\"\n",
    "    if not (r_k.shape == r_j.shape == r_i.shape == (2,)):\n",
    "        raise ValueError('All vectors must be 2-dimensional')\n",
    "    rho_ki = np.linalg.norm(r_k - r_i)\n",
    "    rho_ji = np.linalg.norm(r_j - r_i)\n",
    "    xi_ki, eta_ki = r_k - r_i\n",
    "    xi_ji, eta_ji = r_j - r_i\n",
    "    P = np.dot(r_k - r_i, r_j - r_i)\n",
    "    R = rho_ki * rho_ji\n",
    "    return [(P * (xi_ji/(rho_ji*rho_ji) + xi_ki/(rho_ki*rho_ki)) - (xi_ki + xi_ji)) / R,\n",
    "            (P * (eta_ji/(rho_ji*rho_ji) + eta_ki/(rho_ki*rho_ki)) - (eta_ki + eta_ji)) / R,\n",
    "            (xi_ki - ( P*xi_ji / (rho_ji*rho_ji) )) / R,\n",
    "            (eta_ki - ( P*eta_ji / (rho_ji*rho_ji) )) / R,\n",
    "            (xi_ji - ( P*xi_ki / (rho_ki*rho_ki))) / R,\n",
    "            (eta_ji - ( P*eta_ki / (rho_ki*rho_ki))) / R]\n",
    "\n",
    "\n",
    "def compute_coef(\n",
    "    points: dict[int, np.ndarray],\n",
    "    measurement: tuple[int, int, int, float]\n",
    ") -> float:\n",
    "    i, j, k, theta = measurement\n",
    "    r_i, r_j, r_k = points[i], points[j], points[k]\n",
    "    rho_ki = np.linalg.norm(r_k - r_i)\n",
    "    rho_ji = np.linalg.norm(r_j - r_i)\n",
    "    P = np.dot(r_k - r_i, r_j - r_i)\n",
    "    R = rho_ki * rho_ji\n",
    "    return np.cos(theta) - P/R\n",
    "\n",
    "\n",
    "def get_indices(i: int, j: int, k: int) -> list[int]:\n",
    "    inds =  [2*i - 2, 2*i - 1,\n",
    "            2*j - 2, 2*j - 1,\n",
    "            2*k - 2, 2*k - 1]\n",
    "    return inds\n",
    "\n",
    "\n",
    "def compute_row(\n",
    "    points: dict[int, np.ndarray],\n",
    "    measurement: tuple[int, int, int, float]\n",
    ") -> np.ndarray:\n",
    "    i, j, k, _ = measurement\n",
    "    r_i, r_j, r_k = points[i], points[j], points[k]\n",
    "    weights = compute_weights(r_i, r_j, r_k)\n",
    "    indices = get_indices(i, j, k)\n",
    "    row = np.zeros(len(points) * 2)\n",
    "    for i, c in zip(indices, weights):\n",
    "        row[i] = c\n",
    "    return row\n",
    "\n",
    "\n",
    "def build_matrix(\n",
    "    points: dict[int, np.ndarray],\n",
    "    measurements: list[tuple[int, int, int, float]]\n",
    ") -> np.ndarray:\n",
    "    return np.array(list(map(lambda m : compute_row(points, m), measurements)))\n",
    "\n",
    "\n",
    "def build_coefs(\n",
    "    points: dict[int, np.ndarray],\n",
    "    measurements: list[tuple[int, int, int, float]]\n",
    ") -> np.ndarray:\n",
    "    return np.array(list(map(lambda m: compute_coef(points, m), measurements)))"
   ]
  },
  {
   "cell_type": "markdown",
   "metadata": {},
   "source": [
    "Calculate and apply correction to the given datasets:"
   ]
  },
  {
   "cell_type": "code",
   "execution_count": 148,
   "metadata": {},
   "outputs": [
    {
     "name": "stdout",
     "output_type": "stream",
     "text": [
      "matrix:\n",
      "[[-3.53553391e-01 -7.85046229e-17  3.53553391e-01 -3.53553391e-01\n",
      "   0.00000000e+00  3.53553391e-01]]\n",
      "\n",
      "\n",
      "coefficients:\n",
      "[0.05329941]\n",
      "\n",
      "\n",
      "corrections:\n",
      "[[-3.76883741e-02 -8.36850014e-18]\n",
      " [ 3.76883741e-02 -3.76883741e-02]\n",
      " [ 0.00000000e+00  3.76883741e-02]]\n",
      "\n",
      "answers:\n",
      "[[-0.0392699  0.       ]\n",
      " [ 0.0392699 -0.0392699]\n",
      " [ 0.         0.0392699]]\n"
     ]
    }
   ],
   "source": [
    "points, measurements, corrections = transform_data(data1)\n",
    "A = build_matrix(points, measurements)\n",
    "print(f'matrix:\\n{A}\\n\\n')\n",
    "c = build_coefs(points, measurements)\n",
    "print(f'coefficients:\\n{c}\\n\\n')\n",
    "x = np.linalg.pinv(A) @ c\n",
    "print(f'corrections:\\n{x.reshape([len(points), 2])}\\n')\n",
    "print(f'answers:\\n{np.array(list(corrections.values()))}')"
   ]
  },
  {
   "cell_type": "markdown",
   "metadata": {},
   "source": [
    "Almost correct. Let's try the other dataset:"
   ]
  },
  {
   "cell_type": "code",
   "execution_count": 149,
   "metadata": {},
   "outputs": [
    {
     "name": "stdout",
     "output_type": "stream",
     "text": [
      "matrix:\n",
      "[[ 1.15819146 -0.01798807 -0.97232383 -0.4117469   0.          0.\n",
      "   0.          0.         -0.18586763  0.42973498  0.          0.        ]\n",
      " [ 0.          0.          0.0185836  -0.75167197 -0.58394212  0.84747616\n",
      "   0.          0.          0.56535852 -0.0958042   0.          0.        ]\n",
      " [ 0.          0.          0.          0.         -0.12381428  0.02098125\n",
      "   0.4018371   0.01961747 -0.27802282 -0.04059872  0.          0.        ]\n",
      " [ 0.          0.          0.01774021 -0.71755826 -0.40915046  0.56046893\n",
      "   0.          0.          0.          0.          0.39141025  0.15708933]]\n",
      "\n",
      "\n",
      "coefficients:\n",
      "[ 0.00764516  0.19138891 -0.11059915  0.15058478]\n",
      "\n",
      "\n"
     ]
    }
   ],
   "source": [
    "points, measurements, corrections = transform_data(data2)\n",
    "A = build_matrix(points, measurements)\n",
    "print(f'matrix:\\n{A}\\n\\n')\n",
    "c = build_coefs(points, measurements)\n",
    "print(f'coefficients:\\n{c}\\n\\n')\n",
    "x = np.linalg.pinv(A) @ c"
   ]
  },
  {
   "cell_type": "code",
   "execution_count": 150,
   "metadata": {},
   "outputs": [
    {
     "name": "stdout",
     "output_type": "stream",
     "text": [
      "corrections:\n",
      "[[-1.20206468e-02  1.86694740e-04]\n",
      " [ 1.28981102e-02 -1.09246158e-01]\n",
      " [ 5.74898934e-03  6.32548025e-02]\n",
      " [-1.99717879e-01 -9.75011754e-03]\n",
      " [ 1.07571003e-01  2.12318507e-02]\n",
      " [ 8.55204235e-02  3.43229274e-02]]\n",
      "answers:\n",
      "[[-0.0124687   0.00019365]\n",
      " [ 0.0131732  -0.104997  ]\n",
      " [-0.0193151   0.0708246 ]\n",
      " [-0.123992   -0.0060532 ]\n",
      " [ 0.0700385   0.0109086 ]\n",
      " [ 0.0725637   0.0291229 ]]\n"
     ]
    }
   ],
   "source": [
    "print(f'corrections:\\n{x.reshape([len(points), 2])}')\n",
    "print(f'answers:\\n{np.array(list(corrections.values()))}')"
   ]
  },
  {
   "cell_type": "markdown",
   "metadata": {},
   "source": [
    "Not quite what we've expected... First 2 values are OK, but, for example, point 4 is a bit off.\n",
    "\n",
    "But it still makes sense provided angles become closer to their measured values:"
   ]
  },
  {
   "cell_type": "code",
   "execution_count": 151,
   "metadata": {},
   "outputs": [
    {
     "name": "stdout",
     "output_type": "stream",
     "text": [
      "{'before': 1.578445234689331, 'after': 1.5688240182667426, 'answer': 1.5708}\n",
      "{'before': 1.7633770898844312, 'after': 1.570394236650075, 'answer': 1.5708}\n",
      "{'before': 0.21664349754130663, 'after': 0.6916293941435528, 'answer': 0.523599}\n",
      "{'before': 1.2138516825638075, 'after': 1.0549002711043738, 'answer': 1.0472}\n"
     ]
    }
   ],
   "source": [
    "def calculate_theta(points, i, j, k):\n",
    "    r_i, r_j, r_k = points[i], points[j], points[k]\n",
    "    return np.arccos(np.dot(r_k - r_i, r_j - r_i) / \n",
    "                     (np.linalg.norm(r_k - r_i) * np.linalg.norm(r_j - r_i)))\n",
    "\n",
    "points_corrected = (np.array(list(points.values())) + x.reshape([6,2]))\n",
    "angles = list(map(lambda m: {\n",
    "    'before': calculate_theta(points, m[0], m[1], m[2]),\n",
    "    'after': calculate_theta(points_corrected,  m[0] - 1, m[1] - 1, m[2] - 1),\n",
    "    'answer': m[3]\n",
    "    }, measurements))\n",
    "for a in angles:\n",
    "    print(a)"
   ]
  },
  {
   "cell_type": "markdown",
   "metadata": {},
   "source": [
    "Not perfect, but it definitely brings angle values closer to what they should be, but there are strange discrepancies between computed and expected $dr$ values."
   ]
  }
 ],
 "metadata": {
  "kernelspec": {
   "display_name": "Python 3",
   "language": "python",
   "name": "python3"
  },
  "language_info": {
   "codemirror_mode": {
    "name": "ipython",
    "version": 3
   },
   "file_extension": ".py",
   "mimetype": "text/x-python",
   "name": "python",
   "nbconvert_exporter": "python",
   "pygments_lexer": "ipython3",
   "version": "3.11.5"
  }
 },
 "nbformat": 4,
 "nbformat_minor": 2
}
