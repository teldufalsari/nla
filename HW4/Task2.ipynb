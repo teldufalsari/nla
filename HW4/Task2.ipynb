{
 "cells": [
  {
   "cell_type": "markdown",
   "metadata": {},
   "source": [
    "Relative condition number:\n",
    "$$\n",
    "    \\kappa = \\frac{\\Vert \\partial C(x) \\big/ \\partial x \\Vert}{\\Vert C(x) \\Vert \\big/ \\Vert c \\Vert} = \n",
    "    \\frac{\\left| x \\right|}{\\left| \\cos^2x \\right| \\cdot \\left|  \\frac{\\sin x}{\\cos x} \\right|} =\n",
    "    \\frac{\\left| x \\right|}{\\left| \\sin x \\cos x \\right|} = \\frac{2 \\left| x \\right|}{\\left| \\sin 2x \\right|}\n",
    "    \\geqslant 2\\left| x \\right| = 2 \\cdot 10^{100}.\n",
    "$$\n",
    "\n",
    "One possible way to compute $\\tan 10^{100}$ is finding equivalent argument as\n",
    "$$ x_{eq} = x - \\left\\lfloor \\frac{x}{2\\pi} \\right\\rfloor, $$\n",
    "where we should end up with a number with at least 7 significant decimal places (up to 8 digits). This means $\\left\\lfloor \\frac{x}{2\\pi} \\right\\rfloor$ must me evaluated with 7 decimal places, or with 107 significant digits in total."
   ]
  },
  {
   "cell_type": "code",
   "execution_count": 46,
   "metadata": {},
   "outputs": [],
   "source": [
    "import math\n",
    "from mpmath import mp as mpm\n",
    "mpm.dps = 107\n",
    "mpm.pretty = True"
   ]
  },
  {
   "cell_type": "code",
   "execution_count": 47,
   "metadata": {},
   "outputs": [],
   "source": [
    "arg = mpm.power(mpm.mpf(10), mpm.mpf(100))\n",
    "intermediate = mpm.floor(arg / (mpm.mpf(2) * mpm.pi))\n",
    "nearest_arg = arg - (mpm.mpf(2) * mpm.pi * intermediate)\n",
    "float_arg = float(nearest_arg)"
   ]
  },
  {
   "cell_type": "code",
   "execution_count": 50,
   "metadata": {},
   "outputs": [
    {
     "name": "stdout",
     "output_type": "stream",
     "text": [
      "mpmath.tan: 0.4012320\n",
      "math.tan: 0.4012320\n",
      "control: 0.4012320\n"
     ]
    }
   ],
   "source": [
    "print('mpmath.tan: %.7f' % float((mpm.tan(nearest_arg))))\n",
    "print('math.tan: %.7f' % math.tan(float_arg))\n",
    "print('control: %.7f' % float(mpm.tan(arg))) # This evaluates tan up to `dps` precision"
   ]
  },
  {
   "cell_type": "markdown",
   "metadata": {},
   "source": [
    "So, $107$ digits it is."
   ]
  }
 ],
 "metadata": {
  "kernelspec": {
   "display_name": ".venv",
   "language": "python",
   "name": "python3"
  },
  "language_info": {
   "codemirror_mode": {
    "name": "ipython",
    "version": 3
   },
   "file_extension": ".py",
   "mimetype": "text/x-python",
   "name": "python",
   "nbconvert_exporter": "python",
   "pygments_lexer": "ipython3",
   "version": "3.11.5"
  }
 },
 "nbformat": 4,
 "nbformat_minor": 2
}
