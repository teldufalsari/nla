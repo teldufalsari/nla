{
 "cells": [
  {
   "cell_type": "code",
   "execution_count": 1,
   "metadata": {},
   "outputs": [],
   "source": [
    "import sympy as sp\n",
    "import numpy as np"
   ]
  },
  {
   "cell_type": "code",
   "execution_count": 2,
   "metadata": {},
   "outputs": [],
   "source": [
    "def generate_data(epsilon: float, precision) -> tuple[np.ndarray, np.ndarray]:\n",
    "    return (\n",
    "        np.array([[1, 1,],\n",
    "                  [1, 1 + epsilon],\n",
    "                  [1, 1 + epsilon]],\n",
    "                 dtype=precision),\n",
    "        np.array([2, epsilon, 4 + epsilon], dtype=precision))"
   ]
  },
  {
   "cell_type": "markdown",
   "metadata": {},
   "source": [
    "First let's find the exact solution:"
   ]
  },
  {
   "cell_type": "code",
   "execution_count": 3,
   "metadata": {},
   "outputs": [
    {
     "data": {
      "text/latex": [
       "$\\displaystyle \\left[\\begin{matrix}1\\\\1\\end{matrix}\\right]$"
      ],
      "text/plain": [
       "Matrix([\n",
       "[1],\n",
       "[1]])"
      ]
     },
     "execution_count": 3,
     "metadata": {},
     "output_type": "execute_result"
    }
   ],
   "source": [
    "epsilon = sp.Symbol('\\\\varepsilon')\n",
    "A_sym = sp.Matrix([[1, 1],\n",
    "                   [1, 1 + epsilon],  # type: ignore\n",
    "                   [1, 1 + epsilon]]) # type: ignore\n",
    "b_sym = sp.Matrix([[2], [epsilon], [4 + epsilon]]) # type: ignore\n",
    "\n",
    "x = (A_sym.transpose() @ A_sym).inv() @ A_sym.transpose() @ b_sym\n",
    "x.simplify()\n",
    "x"
   ]
  },
  {
   "cell_type": "markdown",
   "metadata": {},
   "source": [
    "Using simply an inverse to solve the problem does not yield great results (it just explodes with the 32-bit precision)."
   ]
  },
  {
   "cell_type": "code",
   "execution_count": 4,
   "metadata": {},
   "outputs": [
    {
     "name": "stdout",
     "output_type": "stream",
     "text": [
      "32-bit precision:\n",
      "[1024.5    2047.5078]\n",
      "\n",
      "64-bit precision:\n",
      "[0.99999983 1.00000011]\n"
     ]
    }
   ],
   "source": [
    "# Am I just going to write a naive implementation? OK\n",
    "A32, b32 = generate_data(0.00001, np.float32)\n",
    "x32 = np.linalg.inv((A32.transpose() @ A32)) @ A32.transpose() @ b32\n",
    "A64, b64 = generate_data(0.0001, np.float64)\n",
    "x64 = np.linalg.inv((A64.transpose() @ A64)) @ A64.transpose() @ b64\n",
    "print(f'32-bit precision:\\n{x32}\\n\\n64-bit precision:\\n{x64}')"
   ]
  },
  {
   "cell_type": "code",
   "execution_count": 15,
   "metadata": {},
   "outputs": [],
   "source": [
    "def lstsq_svd(matrix: np.ndarray, column: np.ndarray) -> np.ndarray:\n",
    "    U, S, Vh = np.linalg.svd(matrix)\n",
    "    rank = S.shape[0]\n",
    "    return Vh.transpose() @ ((U.transpose() @ column)[:rank] / S)"
   ]
  },
  {
   "cell_type": "markdown",
   "metadata": {},
   "source": [
    "Using SVD seems stable enough to produce quite close results event for 32-bit numbers."
   ]
  },
  {
   "cell_type": "code",
   "execution_count": 30,
   "metadata": {},
   "outputs": [
    {
     "name": "stdout",
     "output_type": "stream",
     "text": [
      "32-bit precision:\n",
      "[0.9999966 1.0000032]\n",
      "residuals:\n",
      "[-3.39746475e-06  3.21865082e-06]\n",
      "\n",
      "64-bit precision:\n",
      "[1. 1.]\n",
      "residuals:\n",
      "[ 3.26383365e-12 -3.26405569e-12]\n"
     ]
    }
   ],
   "source": [
    "x32svd = lstsq_svd(A32, b32)\n",
    "x64svd = lstsq_svd(A64, b64)\n",
    "print(f'32-bit precision:\\n{x32svd}\\nresiduals:\\n{x32svd - np.array([1, 1.])}\\n')\n",
    "print(f'64-bit precision:\\n{x64svd}\\nresiduals:\\n{x64svd - np.array([1, 1.])}')"
   ]
  },
  {
   "cell_type": "markdown",
   "metadata": {},
   "source": [
    "`lstsq` results are similar to the ones calculated using SVD. I assume the function uses either SVD ot other decomposition algorithm, probably QR decomposition."
   ]
  },
  {
   "cell_type": "code",
   "execution_count": 31,
   "metadata": {},
   "outputs": [
    {
     "name": "stdout",
     "output_type": "stream",
     "text": [
      "32-bit precision:\n",
      "[1.0006781 0.9993219]\n",
      "residuals:\n",
      "[ 0.00067806 -0.00067812]\n",
      "\n",
      "64-bit precision:\n",
      "[1. 1.]\n",
      "residuals:\n",
      "[ 8.96194230e-12 -8.96105412e-12]\n"
     ]
    }
   ],
   "source": [
    "x32np = np.linalg.lstsq(A32, b32, rcond=None)[0]\n",
    "x64np = np.linalg.lstsq(A64, b64, rcond=None)[0]\n",
    "print(f'32-bit precision:\\n{x32np}\\nresiduals:\\n{x32np - np.array([1, 1.])}\\n')\n",
    "print(f'64-bit precision:\\n{x64np}\\nresiduals:\\n{x64np - np.array([1, 1.])}')"
   ]
  }
 ],
 "metadata": {
  "kernelspec": {
   "display_name": ".venv",
   "language": "python",
   "name": "python3"
  },
  "language_info": {
   "codemirror_mode": {
    "name": "ipython",
    "version": 3
   },
   "file_extension": ".py",
   "mimetype": "text/x-python",
   "name": "python",
   "nbconvert_exporter": "python",
   "pygments_lexer": "ipython3",
   "version": "3.11.5"
  }
 },
 "nbformat": 4,
 "nbformat_minor": 2
}
