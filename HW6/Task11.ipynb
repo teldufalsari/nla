{
 "cells": [
  {
   "cell_type": "code",
   "execution_count": 1,
   "metadata": {},
   "outputs": [],
   "source": [
    "import numpy as np\n",
    "from scipy.optimize import linprog"
   ]
  },
  {
   "cell_type": "code",
   "execution_count": 2,
   "metadata": {},
   "outputs": [
    {
     "name": "stdout",
     "output_type": "stream",
     "text": [
      "n=10, k=20\n"
     ]
    }
   ],
   "source": [
    "data = np.load('data_linprog.npz')\n",
    "X = data['X']\n",
    "y = data['y']\n",
    "n, k = X.shape\n",
    "print(f'{n=}, {k=}')"
   ]
  },
  {
   "cell_type": "markdown",
   "metadata": {},
   "source": [
    "Since $n < k$, there exist many vectors $a \\in \\mathbb{R}^k $ such that $y_i = a\\cdot x_i$ (i.e. $Xa = y$).\n",
    "Let's find the vector $a$ siths smallest $L_1$ norm. This is a linear programming problem:\n",
    "\n",
    "Find $\\min_{a \\in \\mathbb{R}^k} \\| a \\|$ such that $ Xa = y $.\n",
    "\n",
    "This is indeed a linear program, but we should rewrite it in order to pass to `scipy.optimize.linprog`:\n",
    "\n",
    "Find $ \\min_t 1^Tt $ such that $ Xa = y $ and $ a_i \\leqslant t_i,\\ a_i \\geqslant -t_i $ for all $i$.\n",
    "\n",
    "And in even more verbose form:\n",
    "\n",
    "$$ \\min_{a,t} \\begin{bmatrix} 0 & 1 \\end{bmatrix} \\cdot \\begin{bmatrix} a \\\\ t \\end{bmatrix} $$\n",
    "such that\n",
    "$$ \\begin{bmatrix} X & 0 \\end{bmatrix} \\cdot \\begin{bmatrix} a \\\\ t \\end{bmatrix} = y, $$\n",
    "$$ \\begin{bmatrix} \\hat{I} & -\\hat{I} \\\\ -\\hat{I} & -\\hat{I} \\end{bmatrix} \\cdot \\begin{bmatrix} a \\\\ t \\end{bmatrix} \\leqslant 0, $$\n",
    "$$ \\begin{bmatrix} -\\infty \\\\ 0 \\end{bmatrix} \\leqslant\n",
    "    \\begin{bmatrix} a \\\\ t \\end{bmatrix} \\leqslant\n",
    "    \\begin{bmatrix} +\\infty \\\\ +\\infty \\end{bmatrix}. $$"
   ]
  },
  {
   "cell_type": "markdown",
   "metadata": {},
   "source": [
    "In terms of scipy.optimize.linprog:\n",
    "\n",
    "$$ A_{ub} = \\begin{bmatrix} \\hat{I} & -\\hat{I} \\\\ -\\hat{I} & -\\hat{I} \\end{bmatrix}_{2k \\times 2k}\\ b_{ub} = 0_{2k} $$\n",
    "$$ A_{eq} = \\begin{bmatrix} X & 0 \\end{bmatrix}_{n \\times 2k}\\ b_{eq} = y_n $$\n",
    "$$ l = \\begin{bmatrix} -\\infty \\\\ 0 \\end{bmatrix}_{2k}\\  u = \\begin{bmatrix} +\\infty \\\\ +\\infty \\end{bmatrix}_{2k}$$"
   ]
  },
  {
   "cell_type": "code",
   "execution_count": 22,
   "metadata": {},
   "outputs": [
    {
     "name": "stdout",
     "output_type": "stream",
     "text": [
      "        message: Optimization terminated successfully. (HiGHS Status 7: Optimal)\n",
      "        success: True\n",
      "         status: 0\n",
      "            fun: 9.634439501271336\n",
      "              x: [-1.602e+00 -4.835e-13 ...  1.163e+00  2.855e+00]\n",
      "            nit: 34\n",
      "          lower:  residual: [       inf        inf ...  1.163e+00\n",
      "                              2.855e+00]\n",
      "                 marginals: [ 0.000e+00  0.000e+00 ...  0.000e+00\n",
      "                              0.000e+00]\n",
      "          upper:  residual: [       inf        inf ...        inf\n",
      "                                    inf]\n",
      "                 marginals: [ 0.000e+00  0.000e+00 ...  0.000e+00\n",
      "                              0.000e+00]\n",
      "          eqlin:  residual: [ 0.000e+00  0.000e+00  0.000e+00  0.000e+00\n",
      "                              0.000e+00  0.000e+00  0.000e+00  0.000e+00\n",
      "                              0.000e+00  0.000e+00]\n",
      "                 marginals: [ 3.152e-01  5.945e-01 -4.395e-01  2.630e-02\n",
      "                              4.893e-01  5.334e-01  7.701e-02  2.695e-01\n",
      "                             -1.414e-01 -6.421e-01]\n",
      "        ineqlin:  residual: [ 3.205e+00  0.000e+00 ...  0.000e+00\n",
      "                              5.710e+00]\n",
      "                 marginals: [-0.000e+00 -8.228e-01 ... -1.000e+00\n",
      "                             -0.000e+00]\n",
      " mip_node_count: 0\n",
      " mip_dual_bound: 0.0\n",
      "        mip_gap: 0.0\n"
     ]
    }
   ],
   "source": [
    "c = np.block([np.zeros(k), np.ones(k)])\n",
    "A_ub = np.block([[np.identity(k), -np.identity(k)], [-np.identity(k), -np.identity(k)]])\n",
    "b_ub = np.zeros(2 * k)\n",
    "A_eq = np.block([X, np.zeros([n, k])])\n",
    "l = np.block([np.full(k, -np.inf), np.zeros(k)])\n",
    "u = np.full(2 * k, np.inf)\n",
    "result = linprog(c, A_ub, b_ub, A_eq, y, bounds=np.block([[l], [u]]).transpose(), method='highs')\n",
    "print(result)"
   ]
  },
  {
   "cell_type": "code",
   "execution_count": 28,
   "metadata": {},
   "outputs": [
    {
     "name": "stdout",
     "output_type": "stream",
     "text": [
      "[-1.60245750e+00 -4.83459789e-13 -2.48224304e-13  9.10950467e-02\n",
      " -0.00000000e+00 -2.82416835e-01 -0.00000000e+00  4.20867369e-13\n",
      "  1.68359791e+00 -4.36602158e-13 -0.00000000e+00 -0.00000000e+00\n",
      "  1.60475248e-01  1.25539647e-01 -5.82053763e-14  4.45693938e-13\n",
      " -1.49968049e-01 -1.52127518e+00 -1.16251561e+00  2.85509849e+00]\n",
      "Non-zero elements: 16\n",
      "Significantly non-zero elements: 10\n"
     ]
    }
   ],
   "source": [
    "print(result.x[:20])\n",
    "print(f'Non-zero elements: {np.count_nonzero(result.x[:20])}')\n",
    "print(f'Significantly non-zero elements: {sum(list(map(lambda x: 0 if abs(x) < 1e-12 else 1, result.x[:20])))}')"
   ]
  }
 ],
 "metadata": {
  "kernelspec": {
   "display_name": ".venv",
   "language": "python",
   "name": "python3"
  },
  "language_info": {
   "codemirror_mode": {
    "name": "ipython",
    "version": 3
   },
   "file_extension": ".py",
   "mimetype": "text/x-python",
   "name": "python",
   "nbconvert_exporter": "python",
   "pygments_lexer": "ipython3",
   "version": "3.11.8"
  }
 },
 "nbformat": 4,
 "nbformat_minor": 2
}
