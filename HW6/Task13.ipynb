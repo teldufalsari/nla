{
 "cells": [
  {
   "cell_type": "code",
   "execution_count": 6,
   "metadata": {},
   "outputs": [],
   "source": [
    "import numpy as np"
   ]
  },
  {
   "cell_type": "code",
   "execution_count": 7,
   "metadata": {},
   "outputs": [
    {
     "name": "stdout",
     "output_type": "stream",
     "text": [
      "5 sensors:\n",
      "[[-1.84625944 -8.8926792 ]\n",
      " [ 5.77069755 -4.2538963 ]\n",
      " [-0.99298826 -3.92175389]\n",
      " [ 0.52799049  2.47624426]\n",
      " [ 5.53550915  3.72483291]]\n"
     ]
    }
   ],
   "source": [
    "sensor_positions = np.load('P.npy')\n",
    "k = len(sensor_positions)\n",
    "print(f'{k} sensors:\\n{sensor_positions}')"
   ]
  },
  {
   "cell_type": "code",
   "execution_count": 8,
   "metadata": {},
   "outputs": [
    {
     "name": "stdout",
     "output_type": "stream",
     "text": [
      "5 noisy signals (estimates):\n",
      "[15.83664881  7.40992648 12.20264784  9.10339534  4.44793155]\n"
     ]
    }
   ],
   "source": [
    "estimates = np.load('d.npy')\n",
    "print(f'{k} noisy signals (estimates):\\n{estimates}')"
   ]
  },
  {
   "cell_type": "markdown",
   "metadata": {},
   "source": [
    "We have to minimize\n",
    "$$ L(r) = \\sum_k \\left( \\left\\| r - r_k \\right\\|_2^2 - d_k^2 \\right)^2. $$\n",
    "\n",
    "We can show that solving this problem is identical to the following minimization under constraints:\n",
    "$$ \\min_{r, t}\\sum_k\\left( t + \\left\\| r_k \\right\\|_2^2 - 2r \\cdot r_k - d_k^2 \\right)^2;$$\n",
    "$$ \\left\\| r \\right\\|_2^2 = t. $$\n",
    "Lagrangian of this minimization is essentially a quadratic form:\n",
    "$$ \\tilde{L}(r, t) = \\sum_k \\left( t + \\left\\| r_k \\right\\|_2^2 - 2r \\cdot r_k - d_k^2 \\right)^2\n",
    "   + \\lambda \\left(\\left\\| r \\right\\|_2^2 - t \\right). $$\n",
    "Let's find stationary points $x(\\lambda)$, $y(\\lambda)$, $t(\\lambda)$ explicitly by hand. `sympy` may be useful,\n",
    "but not necessary XD.\n",
    "\n",
    "Let $\\| r_k \\|_2^2 - d_k^2 = \\alpha_k$, $\\lambda = 2\\sigma$ then (omitting sum sign)\n",
    "\n",
    "$$ \\tilde{L}(x, y, t) = \n",
    "   \\sum_k \\left( t^2 + 4x_k^2x^2 + 4y_k^2y^2 + \\alpha_k^2\n",
    "   - 4x_kxt - 4y_kyt + 2\\alpha_kt - 4\\alpha_kx_kx - 4\\alpha_ky_ky + 8x_ky_kxy \\right)\n",
    "   + \\lambda x^2 + \\lambda y^2 - \\lambda t = $$\n",
    "\n",
    "$$ = t^2 + \\left( 4x_k^2 - \\lambda \\right)x^2 + \\left( 4y_k^2 - \\lambda \\right)y^2 \n",
    "   -4x_n \\cdot tx -4y_n \\cdot ty + 8x_ky_k \\cdot xy\n",
    "   + \\left( 2\\alpha_k - \\lambda \\right)\\cdot t -4\\alpha_kx_k\\cdot x -4\\alpha_ky_k\\cdot y\n",
    "   + \\alpha_k^2  = $$\n",
    "   $$ = (t, x, y) \\cdot A \\cdot (t, x, y)^T + b\\cdot(t, x, y) + \\alpha_k^2. $$\n",
    "\n",
    "The optimum is reached when $ A\\cdot(t, x, y)^T + b = 0$, which yields:"
   ]
  }
 ],
 "metadata": {
  "kernelspec": {
   "display_name": ".venv",
   "language": "python",
   "name": "python3"
  },
  "language_info": {
   "codemirror_mode": {
    "name": "ipython",
    "version": 3
   },
   "file_extension": ".py",
   "mimetype": "text/x-python",
   "name": "python",
   "nbconvert_exporter": "python",
   "pygments_lexer": "ipython3",
   "version": "3.11.8"
  }
 },
 "nbformat": 4,
 "nbformat_minor": 2
}
