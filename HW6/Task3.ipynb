{
 "cells": [
  {
   "cell_type": "code",
   "execution_count": 1,
   "metadata": {},
   "outputs": [],
   "source": [
    "import numpy as np\n",
    "import jax\n",
    "import jax.numpy as jnp\n",
    "import pandas as pd\n",
    "import matplotlib.pyplot as plt\n",
    "from scipy.optimize import minimize, NonlinearConstraint\n",
    "from functools import reduce"
   ]
  },
  {
   "cell_type": "code",
   "execution_count": 2,
   "metadata": {},
   "outputs": [],
   "source": [
    "def load_data(filename: str) -> dict[str, pd.DataFrame]:\n",
    "    data = {}\n",
    "    with pd.HDFStore(filename) as store:\n",
    "        for k in store.keys():\n",
    "            data[k] = store.get(k)\n",
    "    return data\n",
    "\n",
    "def transform_data(data: dict[str, pd.DataFrame]) -> tuple[\n",
    "        np.ndarray, # points\n",
    "        list[tuple[int, int, int]],\n",
    "        np.ndarray, # angles\n",
    "        np.ndarray  # corrections\n",
    "    ]:\n",
    "    i_list = list(data['/measurements'].get('i').values.flatten())\n",
    "    j_list = list(data['/measurements'].get('j').values.flatten())\n",
    "    k_list = list(data['/measurements'].get('k').values.flatten())\n",
    "    indices = [(i-1, j-1, k-1) for i, j, k in zip(i_list, j_list, k_list)]\n",
    "    angles = np.array(data['/measurements'].get('theta').values.flatten())\n",
    "    points = np.array([data['/r'].loc[[k]].values.flatten() for k in data['/r'].index])\n",
    "    corrections = np.array([data['/dr'].loc[[k]].values.flatten() for k in data['/dr'].index])\n",
    "    return (points, indices, angles, corrections)"
   ]
  },
  {
   "cell_type": "code",
   "execution_count": 3,
   "metadata": {},
   "outputs": [
    {
     "name": "stdout",
     "output_type": "stream",
     "text": [
      "----------------------------------------<(dr)\n",
      "             dx        dy\n",
      "point                    \n",
      "1     -0.012469  0.000194\n",
      "2      0.013173 -0.104997\n",
      "3     -0.019315  0.070825\n",
      "4     -0.123992 -0.006053\n",
      "5      0.070039  0.010909\n",
      "6      0.072564  0.029123\n",
      "------------------------------\n",
      "\n",
      "----------------------------------------<(measurements)\n",
      "             i  j  k     theta\n",
      "measurement                   \n",
      "1            1  2  5  1.570800\n",
      "2            3  2  5  1.570800\n",
      "3            5  4  3  0.523599\n",
      "4            3  2  6  1.047200\n",
      "------------------------------\n",
      "\n",
      "----------------------------------------<(r)\n",
      "              x         y\n",
      "point                    \n",
      "1      1.264126  0.085318\n",
      "2      0.894840  0.957372\n",
      "3     -0.410136  0.925109\n",
      "4     -0.722170 -0.228867\n",
      "5     -0.696117 -0.762520\n",
      "6      0.417324 -1.136625\n",
      "------------------------------\n",
      "\n"
     ]
    }
   ],
   "source": [
    "data1 = load_data('localization_data_1.hdf')\n",
    "data2 = load_data('localization_data_2.hdf')\n",
    "print(reduce(lambda acc, s: f'{acc}\\n{s}',\n",
    "             map(lambda x: f\"{'-'*40}<({x[0][1:]})\\n{x[1]}\\n{'-'*30}\\n\",\n",
    "                 data2.items())))"
   ]
  },
  {
   "cell_type": "markdown",
   "metadata": {},
   "source": [
    "In this task we are solving a common constrained optimization problem: for given $r_i, \\theta_{ijk}$ find\n",
    "$$ \\min_{\\tilde{r}_i}\\left\\| \\tilde{r}_i - r_i \\right\\|_2 $$\n",
    "for all $i$ such that\n",
    "$$ \\theta_{ijk} = \\frac{(r_j - r_i) \\cdot (r_j - r_i)}{\\left\\| r_k - r_i \\right\\|_2 \\cdot \\left\\| r_j - r_i \\right\\|_2} $$\n",
    "for all $(i, j, k)$ given."
   ]
  },
  {
   "cell_type": "code",
   "execution_count": 4,
   "metadata": {},
   "outputs": [],
   "source": [
    "def constraint_function_inner(r: jnp.ndarray, indices: list[tuple[int, int, int]]):\n",
    "    return np.array([jnp.arccos(jnp.divide(jnp.dot(r[k] - r[i], r[j] - r[i]),\n",
    "                                             jnp.multiply(jnp.linalg.norm(r[k] - r[i]),\n",
    "                                                          jnp.linalg.norm(r[j] - r[i])))) for i, j, k in indices])"
   ]
  },
  {
   "cell_type": "code",
   "execution_count": 9,
   "metadata": {},
   "outputs": [],
   "source": [
    "def process_data(data: dict['str', pd.DataFrame]):\n",
    "    points, indices, angles, corrections = transform_data(data)\n",
    "    n = len(points)\n",
    "    d = 2\n",
    "    constraint = NonlinearConstraint(fun=lambda r: constraint_function_inner(r.reshape([n, d]), indices),\n",
    "                                    lb=angles,\n",
    "                                    ub=angles)\n",
    "    return (minimize(fun=lambda r: jnp.linalg.norm(r - points.flatten(), ord=2),\n",
    "                    x0=np.random.uniform(size=n * d),\n",
    "                    method='trust-constr',\n",
    "                    constraints=constraint), points, corrections)"
   ]
  },
  {
   "cell_type": "code",
   "execution_count": 67,
   "metadata": {},
   "outputs": [],
   "source": [
    "def process_data(data: dict['str', pd.DataFrame]):\n",
    "    points, indices, angles, corrections = transform_data(data)\n",
    "    n = len(points)\n",
    "    d = 2\n",
    "    constraint = NonlinearConstraint(fun=lambda r: constraint_function_inner(r.reshape([n, d]), indices),\n",
    "                                    lb=angles,\n",
    "                                    ub=angles)\n",
    "    return (minimize(fun=lambda r: np.linalg.norm(r - points.flatten(), ord=2),\n",
    "                    x0=np.random.uniform(size=n * d),\n",
    "                    method='trust-constr',\n",
    "                    constraints=constraint), points, corrections)"
   ]
  },
  {
   "cell_type": "markdown",
   "metadata": {},
   "source": [
    "### Dataset #1"
   ]
  },
  {
   "cell_type": "code",
   "execution_count": 68,
   "metadata": {},
   "outputs": [
    {
     "name": "stdout",
     "output_type": "stream",
     "text": [
      "          message: `xtol` termination condition is satisfied.\n",
      "          success: True\n",
      "           status: 2\n",
      "              fun: 0.08002599341615771\n",
      "                x: [-1.037e+00  2.463e-03  3.828e-02  9.568e-01  9.992e-01\n",
      "                     4.074e-02]\n",
      "              nit: 37\n",
      "             nfev: 385\n",
      "             njev: 55\n",
      "             nhev: 0\n",
      "         cg_niter: 50\n",
      "     cg_stop_cond: 2\n",
      "             grad: [-4.685e-01  3.078e-02  4.784e-01 -5.398e-01 -9.942e-03\n",
      "                     5.091e-01]\n",
      "  lagrangian_grad: [ 6.411e-04  6.814e-04  2.052e-04 -2.115e-04  9.037e-05\n",
      "                     1.354e-04]\n",
      "           constr: [array([ 7.069e-01], dtype=float32)]\n",
      "              jac: [array([[ 4.521e-01, -2.900e-02, -4.608e-01,  5.200e-01,\n",
      "                            9.667e-03, -4.905e-01]])]\n",
      "      constr_nfev: [385]\n",
      "      constr_njev: [0]\n",
      "      constr_nhev: [0]\n",
      "                v: [array([ 1.038e+00])]\n",
      "           method: equality_constrained_sqp\n",
      "       optimality: 0.0006813812496410596\n",
      " constr_violation: 2.0702362046876033e-08\n",
      "   execution_time: 0.031705617904663086\n",
      "        tr_radius: 6.694311347720251e-09\n",
      "   constr_penalty: 1.3615408973966365\n",
      "            niter: 37\n"
     ]
    },
    {
     "name": "stderr",
     "output_type": "stream",
     "text": [
      "/home/huldre/Data/Documents/Numericals/.venv/lib/python3.11/site-packages/scipy/optimize/_hessian_update_strategy.py:182: UserWarning: delta_grad == 0.0. Check if the approximated function is linear. If the function is linear better results can be obtained by defining the Hessian as zero instead of using quasi-Newton approximations.\n",
      "  warn('delta_grad == 0.0. Check if the approximated '\n"
     ]
    }
   ],
   "source": [
    "result, points, true_dr = process_data(data1)\n",
    "dr = result['x'].reshape(points.shape) - points\n",
    "print(result)"
   ]
  },
  {
   "cell_type": "code",
   "execution_count": 69,
   "metadata": {},
   "outputs": [
    {
     "data": {
      "image/png": "[encoded data removed]",
      "text/plain": [
       "<Figure size 640x480 with 1 Axes>"
      ]
     },
     "metadata": {},
     "output_type": "display_data"
    }
   ],
   "source": [
    "true_points = points + true_dr\n",
    "computed_points = result['x'].reshape(points.shape)\n",
    "plt.scatter(points[:,0], points[:,1], label='Before correction')\n",
    "plt.scatter(computed_points[:,0], computed_points[:,1], label='After correction')\n",
    "plt.scatter(true_points[:,0], true_points[:,1], label='True positions', marker='+')\n",
    "plt.grid(True)\n",
    "plt.legend()\n",
    "plt.show()"
   ]
  },
  {
   "cell_type": "markdown",
   "metadata": {},
   "source": [
    "### Dataset #2"
   ]
  },
  {
   "cell_type": "code",
   "execution_count": 84,
   "metadata": {},
   "outputs": [
    {
     "name": "stdout",
     "output_type": "stream",
     "text": [
      "          message: `xtol` termination condition is satisfied.\n",
      "          success: True\n",
      "           status: 2\n",
      "              fun: 0.20674915056096732\n",
      "                x: [ 1.237e+00  8.478e-02  9.045e-01  8.513e-01 -4.258e-01\n",
      "                     1.007e+00 -8.235e-01 -2.725e-01 -6.291e-01 -7.239e-01\n",
      "                     4.851e-01 -1.107e+00]\n",
      "              nit: 41\n",
      "             nfev: 741\n",
      "             njev: 57\n",
      "             nhev: 0\n",
      "         cg_niter: 80\n",
      "     cg_stop_cond: 2\n",
      "             grad: [-1.325e-01 -2.580e-03  4.688e-02 -5.132e-01 -7.574e-02\n",
      "                     3.985e-01 -4.902e-01 -2.112e-01  3.241e-01  1.869e-01\n",
      "                     3.279e-01  1.415e-01]\n",
      "  lagrangian_grad: [ 7.996e-05 -3.260e-05  2.216e-04 -4.080e-05 -1.986e-04\n",
      "                    -9.140e-05 -1.839e-05  1.432e-04 -2.756e-05  2.569e-04\n",
      "                    -1.177e-04  1.522e-04]\n",
      "           constr: [array([ 1.571e+00,  1.571e+00,  5.236e-01,  1.047e+00],\n",
      "                         dtype=float32)]\n",
      "              jac: [array([[-1.294e+00, -2.486e-02, ...,  0.000e+00,\n",
      "                           -0.000e+00],\n",
      "                          [ 0.000e+00,  0.000e+00, ...,  0.000e+00,\n",
      "                           -0.000e+00],\n",
      "                          [ 0.000e+00,  0.000e+00, ...,  0.000e+00,\n",
      "                           -0.000e+00],\n",
      "                          [ 0.000e+00,  0.000e+00, ..., -3.988e-01,\n",
      "                           -1.718e-01]])]\n",
      "      constr_nfev: [741]\n",
      "      constr_njev: [0]\n",
      "      constr_nhev: [0]\n",
      "                v: [array([-1.025e-01, -6.494e-02, -2.624e-01,  8.226e-01])]\n",
      "           method: equality_constrained_sqp\n",
      "       optimality: 0.00025691079410755657\n",
      " constr_violation: 8.373260507177349e-08\n",
      "   execution_time: 0.10310029983520508\n",
      "        tr_radius: 8.428036740768314e-09\n",
      "   constr_penalty: 1.0\n",
      "            niter: 41\n"
     ]
    }
   ],
   "source": [
    "result, points, true_dr = process_data(data2)\n",
    "dr = result['x'].reshape(points.shape) - points\n",
    "print(result)"
   ]
  },
  {
   "cell_type": "code",
   "execution_count": 85,
   "metadata": {},
   "outputs": [
    {
     "data": {
      "image/png": "[encoded data removed]",
      "text/plain": [
       "<Figure size 640x480 with 1 Axes>"
      ]
     },
     "metadata": {},
     "output_type": "display_data"
    }
   ],
   "source": [
    "true_points = points + true_dr\n",
    "computed_points = result['x'].reshape(points.shape)\n",
    "plt.scatter(points[:,0], points[:,1], label='Before correction')\n",
    "plt.scatter(computed_points[:,0], computed_points[:,1], label='After correction')\n",
    "plt.scatter(true_points[:,0], true_points[:,1], label='True positions', marker='+')\n",
    "plt.grid(True)\n",
    "plt.legend()\n",
    "plt.show()"
   ]
  }
 ],
 "metadata": {
  "kernelspec": {
   "display_name": ".venv",
   "language": "python",
   "name": "python3"
  },
  "language_info": {
   "codemirror_mode": {
    "name": "ipython",
    "version": 3
   },
   "file_extension": ".py",
   "mimetype": "text/x-python",
   "name": "python",
   "nbconvert_exporter": "python",
   "pygments_lexer": "ipython3",
   "version": "3.11.8"
  }
 },
 "nbformat": 4,
 "nbformat_minor": 2
}
