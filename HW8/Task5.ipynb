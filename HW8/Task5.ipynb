{
 "cells": [
  {
   "cell_type": "code",
   "execution_count": 50,
   "metadata": {},
   "outputs": [],
   "source": [
    "import numpy as np\n",
    "from scipy.special import comb\n",
    "import matplotlib.pyplot as plt\n",
    "from scipy.optimize import minimize"
   ]
  },
  {
   "cell_type": "code",
   "execution_count": 10,
   "metadata": {},
   "outputs": [],
   "source": [
    "observations = np.array(list(map(lambda string: np.array(list(map(lambda x: 1 if x == 'H' else 0, string))),\n",
    "               ['TTTTHHHTTTHTTTHHTTTT', 'HHHHHHHHHHHHHTTTHHHH','HHHTHHHHHHTHTTHTHHHH'])))"
   ]
  },
  {
   "cell_type": "markdown",
   "metadata": {},
   "source": [
    "Let $X$ be the observations, $Z$ - hidden parameters (indices of the coins used in each run of the experiment) and \n",
    "$\\Theta$ - the objective, namely $p_1$ and $p_1$. Since each run is independet of any other,\n",
    "probabilistic model of our experiment can be expressed as a simple product:\n",
    "\n",
    "$$ \\mathbb{P}\\left( X, Z, \\Theta \\right) = \\prod_{i=1}^3 P_i\\left(x_i, z_i, \\theta_i \\right), $$\n",
    "\n",
    "where\n",
    "$$ P_i\\left(x_i, z_i, \\theta_i \\right) = \\frac{C_{N_{tot}}^{N_H}}{2^{N_{tot}}} \\cdot p_{z_i}^{N_H} \\cdot \\left( 1 - p_{z_i} \\right)^{1 - N_H} $$\n",
    "\n",
    "### Estimate the biases\n",
    "We can estimate the biases by computing the Maximal Likelihood Estimation. Likelihood function to maximize:\n",
    "$$ L(p_1, p_2) = \\mathbb{P}\\left( p_1, p_2\\ |\\ X \\right) = \\alpha \\sum_Z \\mathbb{P}(X, Z, \\Theta). $$"
   ]
  },
  {
   "cell_type": "code",
   "execution_count": 42,
   "metadata": {},
   "outputs": [],
   "source": [
    "hidden_parameters = np.array([np.array([0, 0, 0]),\n",
    "                              np.array([0, 0, 1]),\n",
    "                              np.array([0, 1, 0]),\n",
    "                              np.array([0, 1, 1]),\n",
    "                              np.array([1, 0, 0]),\n",
    "                              np.array([1, 0, 1]),\n",
    "                              np.array([1, 1, 0]),\n",
    "                              np.array([1, 1, 1])])\n",
    "\n",
    "Nhead = observations.sum(axis=1)\n",
    "Ntot = 20\n",
    "coefs = comb(Ntot, Nhead) / 2**Ntot\n",
    "\n",
    "def likelihood(p1: float, p2: float) -> float:\n",
    "    probas = np.array([p1, p2])\n",
    "    return sum([(coefs * np.power(probas[hidden], Nhead) * np.power(1.0 - probas[hidden], Ntot - Nhead)).prod()\n",
    "                for hidden in hidden_parameters])"
   ]
  },
  {
   "cell_type": "code",
   "execution_count": 46,
   "metadata": {},
   "outputs": [],
   "source": [
    "vlikelihood = np.vectorize(likelihood)"
   ]
  },
  {
   "cell_type": "code",
   "execution_count": 74,
   "metadata": {},
   "outputs": [
    {
     "data": {
      "image/png": "[encoded data removed]",
      "text/plain": [
       "<Figure size 640x480 with 1 Axes>"
      ]
     },
     "metadata": {},
     "output_type": "display_data"
    }
   ],
   "source": [
    "p1_space = np.linspace(0.0, 1.0, 101)\n",
    "p2_space = np.array([np.linspace(0.0, 1.0, 101)]).transpose()\n",
    "l = vlikelihood(p1_space, p2_space)\n",
    "plt.imshow(np.flipud(l))\n",
    "plt.show()"
   ]
  },
  {
   "cell_type": "markdown",
   "metadata": {},
   "source": [
    "The function is symmetric. Indeed, we did not specify exactly which coin should be labeled 1 or 2.\n",
    "Something like $p_1 = 0.8$ and $p_2 = 0.3$ is expected."
   ]
  },
  {
   "cell_type": "code",
   "execution_count": 61,
   "metadata": {},
   "outputs": [
    {
     "name": "stdout",
     "output_type": "stream",
     "text": [
      "       message: Optimization terminated successfully.\n",
      "       success: True\n",
      "        status: 0\n",
      "           fun: -5.9600554474763984e-21\n",
      "             x: [ 3.001e-01  8.000e-01]\n",
      "           nit: 30\n",
      "          nfev: 58\n",
      " final_simplex: (array([[ 3.001e-01,  8.000e-01],\n",
      "                       [ 3.001e-01,  8.000e-01],\n",
      "                       [ 3.002e-01,  8.000e-01]]), array([-5.960e-21, -5.960e-21, -5.960e-21]))\n"
     ]
    }
   ],
   "source": [
    "initial_simplex = ([[0.2, 0.9], [0.3, 0.6], [0.6, 0.9]])\n",
    "result = minimize(fun=lambda x: -vlikelihood(x[0], x[1]),\n",
    "                  method='Nelder-Mead',\n",
    "                  x0=[0.7, 0.4],\n",
    "                  options={'initial_simplex' : initial_simplex})\n",
    "print(result)"
   ]
  },
  {
   "cell_type": "markdown",
   "metadata": {},
   "source": [
    "Eyeballed it!\n",
    "\n",
    "### A posteriori $ \\mathbb{P} \\left( \\left| p_1 - p_2 \\right| < 0.1 \\right) $\n",
    "\n",
    "$$ \\mathbb{P} \\left( \\left| p_1 - p_2 \\right| < 0.1 \\right) =\n",
    "    \\int_{\\left| p_1 - p_2 \\right| < 0.1} P(p_1, p_2\\ |\\ X)dp_1 dp_2, $$\n",
    "where $P(p_1, p_2\\ |\\ X)$ is the a posteriori likelihood function."
   ]
  },
  {
   "cell_type": "code",
   "execution_count": 70,
   "metadata": {},
   "outputs": [
    {
     "data": {
      "image/png": "[encoded data removed]",
      "text/plain": [
       "<Figure size 640x480 with 1 Axes>"
      ]
     },
     "metadata": {},
     "output_type": "display_data"
    }
   ],
   "source": [
    "from scipy.integrate import dblquad\n",
    "\n",
    "\n",
    "area = np.reshape(np.array(list(map(lambda x: 1.0 if x < 0.1 else 0.0,\n",
    "                                    np.abs(p1_space - p2_space).flatten()))),\n",
    "                  [len(p1_space), len(p2_space)])\n",
    "plt.imshow(np.flipud(area))\n",
    "plt.show()"
   ]
  },
  {
   "cell_type": "markdown",
   "metadata": {},
   "source": [
    "Comparing the area with the function plot above, we may expect the probability to be very small."
   ]
  },
  {
   "cell_type": "code",
   "execution_count": 84,
   "metadata": {},
   "outputs": [
    {
     "name": "stdout",
     "output_type": "stream",
     "text": [
      "P(|p1 - p1| < 0.1) = 0.0036308278774949735\n"
     ]
    }
   ],
   "source": [
    "total = dblquad(func=likelihood,\n",
    "                a=0.0, b=1.0,\n",
    "                gfun=lambda x: 0.0,\n",
    "                hfun=lambda x: 1.0)[0]\n",
    "area = dblquad(func=likelihood,\n",
    "               a=0.0, b=1.0,\n",
    "               gfun=lambda x: max(0.0, x - 0.1),\n",
    "               hfun=lambda x: min(1.0, x + 0.1))[0]\n",
    "print(f'P(|p1 - p1| < 0.1) = {area / total}')"
   ]
  },
  {
   "cell_type": "markdown",
   "metadata": {},
   "source": [
    "### A posteriori probability $Z = (1, 1, 1)$ or $Z = (2, 2, 2)$\n",
    "\n",
    "Instead of computing the sum ($\\approx$ integral) of $\\mathbb{P}\\left( X, Z, \\Theta \\right) $ over Z, we may integrate the $\\mathbb{P}$\n",
    "over $d\\Theta = dp_1 dp_2$. Knowing the resulting function $\\mathbb{P}\\left(Z\\ |\\ X\\right) $, it is easy to find the probability in\n",
    "question, which would be $\\mathbb{P}\\left(Z = [1,1,1]\\ |\\ X\\right) + \\mathbb{P}\\left(Z = [2,2,2]\\ |\\ X\\right) $"
   ]
  },
  {
   "cell_type": "code",
   "execution_count": 85,
   "metadata": {},
   "outputs": [
    {
     "name": "stdout",
     "output_type": "stream",
     "text": [
      "P(Z=(1,1,1) or Z=(2,2,2) | X) = 0.0028998422016043193\n"
     ]
    }
   ],
   "source": [
    "from functools import reduce\n",
    "# This function needs to be normalised to be considered likelihood.\n",
    "def hidden_likelihood(z: list[int]) -> float:\n",
    "    def integrand(p1: float, p2: float) -> float:\n",
    "        probas = np.array([p1, p2])\n",
    "        return (coefs * np.power(probas[z], Nhead) * np.power(1.0 - probas[z], Ntot - Nhead)).prod()\n",
    "    return dblquad(func=integrand,\n",
    "                   a=0.0, b=1.0,\n",
    "                   gfun=lambda x: 0.0,\n",
    "                   hfun=lambda x: 1.0)[0]\n",
    "\n",
    "norm = reduce(lambda acc, it: acc + it, (map(hidden_likelihood, hidden_parameters)))\n",
    "print(f'P(Z=(1,1,1) or Z=(2,2,2) | X) = {(hidden_likelihood([0, 0, 0]) + hidden_likelihood([1, 1, 1])) / norm}')"
   ]
  }
 ],
 "metadata": {
  "kernelspec": {
   "display_name": ".venv",
   "language": "python",
   "name": "python3"
  },
  "language_info": {
   "codemirror_mode": {
    "name": "ipython",
    "version": 3
   },
   "file_extension": ".py",
   "mimetype": "text/x-python",
   "name": "python",
   "nbconvert_exporter": "python",
   "pygments_lexer": "ipython3",
   "version": "3.12.3"
  }
 },
 "nbformat": 4,
 "nbformat_minor": 2
}
